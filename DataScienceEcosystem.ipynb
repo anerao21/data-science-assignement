{
 "cells": [
  {
   "cell_type": "markdown",
   "id": "3b241e56-31fa-408a-b160-378aacda1e50",
   "metadata": {},
   "source": [
    "Peer-graded_Assignment_Submitting_My_Work"
   ]
  },
  {
   "cell_type": "markdown",
   "id": "a1f21a33-1b34-410b-8c02-4c942f456fff",
   "metadata": {},
   "source": [
    "Data Science Tools and Ecosystem"
   ]
  },
  {
   "cell_type": "markdown",
   "id": "a594be43-d762-4c86-a4b5-99fb1478df2e",
   "metadata": {},
   "source": [
    "In this notebook, Data Science Tools and Ecosystem are summarized.\n",
    "\n",
    "Objectives:\n",
    "\n",
    "List popular languages that Data Scientists use.\n",
    "List commonly used libraries used by Data Scientists.\n",
    "Comment on Data Science tools."
   ]
  },
  {
   "cell_type": "markdown",
   "id": "20984d36-2882-4647-8cdc-f4a3f159b06c",
   "metadata": {},
   "source": [
    "Some of the popular languages that Data Scientists use are:\r\n",
    "\r\n",
    "Python.\r\n",
    "R.\r\n",
    "SQL.\r\n",
    "Java.\r\n",
    "Julia.\r\n",
    "Scala.\r\n",
    "C/C++.\r\n",
    "JavaScript."
   ]
  },
  {
   "cell_type": "markdown",
   "id": "9def9601-15f7-4974-9ac3-0a88851dae6c",
   "metadata": {},
   "source": [
    "Some of the commonly used libraries used by Data Scientists include:\r\n",
    "\r\n",
    "TensorFlow.\r\n",
    "NumPy.\r\n",
    "SciPy.\r\n",
    "Pandas.\r\n",
    "Matplotlib.\r\n",
    "Keras.\r\n",
    "SciKit-Learn.\r\n",
    "PyTorch.\r\n",
    "Scrapy.\r\n",
    "BeautifulSoup.\r\n",
    "LightGBM.\r\n",
    "ELI5.\r\n",
    "Theano.\r\n",
    "NuPIC.\r\n",
    "Ramp.\r\n",
    "Pipenv.\r\n",
    "Bob.\r\n",
    "PyBrain.\r\n",
    "Caffe2.\r\n",
    "Chainer."
   ]
  },
  {
   "cell_type": "markdown",
   "id": "339251b2-2769-4757-99bf-0023c2653f96",
   "metadata": {},
   "source": [
    "Data Science Tools:\r\n",
    "\r\n",
    "Data Science Tools\t\t\r\n",
    "SAS. It is one of those data science tools which are specifically designed for statistical operation\t\t\r\n",
    "Apache Spark\t\t\r\n",
    "BigML"
   ]
  },
  {
   "cell_type": "markdown",
   "id": "f1a1bdab-47b2-4ffd-afb3-ea0d12e5f1b9",
   "metadata": {},
   "source": [
    "# Arithmetic operations\r\n",
    "code = compile(\"5 + 4\", \"<string>\", \"eval\")\r\n",
    "eval(code)\r\n",
    "# Result: 9"
   ]
  },
  {
   "cell_type": "code",
   "execution_count": 3,
   "id": "9c1c8956-e16f-4b49-a303-15555f985065",
   "metadata": {},
   "outputs": [
    {
     "data": {
      "text/plain": [
       "17"
      ]
     },
     "execution_count": 3,
     "metadata": {},
     "output_type": "execute_result"
    }
   ],
   "source": [
    "(3*4)+5\r\n"
   ]
  },
  {
   "cell_type": "code",
   "execution_count": 16,
   "id": "aeaecb21-a33f-412e-9b28-0beb61c673d2",
   "metadata": {},
   "outputs": [
    {
     "name": "stdout",
     "output_type": "stream",
     "text": [
      "0 days, 3.3333333333333335 hours, 0 mins. \n"
     ]
    }
   ],
   "source": [
    "days = 0\n",
    "hours = 0\n",
    "mins = 0\n",
    "\n",
    "time = 200\n",
    "#days = time / 1440\n",
    "leftover_minutes = time % 1440\n",
    "hours = leftover_minutes / 60\n",
    "#mins = time - (days*1440) - (hours*60)\n",
    "print(str(days) + \" days, \" + str(hours) + \" hours, \" + str(mins) +  \" mins. \")\n"
   ]
  },
  {
   "cell_type": "markdown",
   "id": "d48ccd68-8234-4036-b997-7b8b567ffe55",
   "metadata": {},
   "source": [
    "# Objectives\n",
    "\n",
    "1. Learn to create a code cell in Jupyter Notebook.\n",
    "2. Understand the concept of converting minutes to hours.\n",
    "3. Practice basic mathematical operations in Python.\n",
    "4. Gain familiarity with Markdown cells in Jupyter Notebook.\n",
    "5. Explore the use of print statements for displaying results.\n",
    "6. Execute the code cell and observe the output.\n",
    "7. Enhance understanding of simple Python syntax.\n",
    "8. Develop skills in documenting code and explanations using Markdown.\n",
    "9. Recognize the importance of commenting for code readability."
   ]
  },
  {
   "cell_type": "markdown",
   "id": "e455af1e-a057-4d73-857f-6b6a19b05597",
   "metadata": {},
   "source": [
    "# Author\n",
    "Yamini Sadanand Anerao\n"
   ]
  }
 ],
 "metadata": {
  "kernelspec": {
   "display_name": "Python 3 (ipykernel)",
   "language": "python",
   "name": "python3"
  },
  "language_info": {
   "codemirror_mode": {
    "name": "ipython",
    "version": 3
   },
   "file_extension": ".py",
   "mimetype": "text/x-python",
   "name": "python",
   "nbconvert_exporter": "python",
   "pygments_lexer": "ipython3",
   "version": "3.10.9"
  }
 },
 "nbformat": 4,
 "nbformat_minor": 5
}
